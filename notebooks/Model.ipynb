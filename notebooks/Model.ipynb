{
 "cells": [
  {
   "cell_type": "code",
   "execution_count": 1,
   "id": "76648c05",
   "metadata": {},
   "outputs": [],
   "source": [
    "import os\n",
    "import pandas as pd\n",
    "import numpy as np\n",
    "import matplotlib.pyplot as plt"
   ]
  },
  {
   "cell_type": "markdown",
   "id": "d223aae9",
   "metadata": {},
   "source": [
    "# Loading and exploring data"
   ]
  },
  {
   "cell_type": "code",
   "execution_count": 2,
   "id": "4e6abe04",
   "metadata": {},
   "outputs": [],
   "source": [
    "filepath = os.path.join('..','raw_data', 'dataset.csv')\n",
    "data = pd.read_csv(filepath, sep=';')"
   ]
  },
  {
   "cell_type": "code",
   "execution_count": 3,
   "id": "70933f90",
   "metadata": {},
   "outputs": [
    {
     "data": {
      "text/html": [
       "<div>\n",
       "<style scoped>\n",
       "    .dataframe tbody tr th:only-of-type {\n",
       "        vertical-align: middle;\n",
       "    }\n",
       "\n",
       "    .dataframe tbody tr th {\n",
       "        vertical-align: top;\n",
       "    }\n",
       "\n",
       "    .dataframe thead th {\n",
       "        text-align: right;\n",
       "    }\n",
       "</style>\n",
       "<table border=\"1\" class=\"dataframe\">\n",
       "  <thead>\n",
       "    <tr style=\"text-align: right;\">\n",
       "      <th></th>\n",
       "      <th>uuid</th>\n",
       "      <th>default</th>\n",
       "      <th>account_amount_added_12_24m</th>\n",
       "      <th>account_days_in_dc_12_24m</th>\n",
       "      <th>account_days_in_rem_12_24m</th>\n",
       "      <th>account_days_in_term_12_24m</th>\n",
       "      <th>account_incoming_debt_vs_paid_0_24m</th>\n",
       "      <th>account_status</th>\n",
       "      <th>account_worst_status_0_3m</th>\n",
       "      <th>account_worst_status_12_24m</th>\n",
       "      <th>...</th>\n",
       "      <th>status_3rd_last_archived_0_24m</th>\n",
       "      <th>status_max_archived_0_6_months</th>\n",
       "      <th>status_max_archived_0_12_months</th>\n",
       "      <th>status_max_archived_0_24_months</th>\n",
       "      <th>recovery_debt</th>\n",
       "      <th>sum_capital_paid_account_0_12m</th>\n",
       "      <th>sum_capital_paid_account_12_24m</th>\n",
       "      <th>sum_paid_inv_0_12m</th>\n",
       "      <th>time_hours</th>\n",
       "      <th>worst_status_active_inv</th>\n",
       "    </tr>\n",
       "  </thead>\n",
       "  <tbody>\n",
       "    <tr>\n",
       "      <th>0</th>\n",
       "      <td>63f69b2c-8b1c-4740-b78d-52ed9a4515ac</td>\n",
       "      <td>0.0</td>\n",
       "      <td>0</td>\n",
       "      <td>0.0</td>\n",
       "      <td>0.0</td>\n",
       "      <td>0.0</td>\n",
       "      <td>0.0</td>\n",
       "      <td>1.0</td>\n",
       "      <td>1.0</td>\n",
       "      <td>NaN</td>\n",
       "      <td>...</td>\n",
       "      <td>1</td>\n",
       "      <td>1</td>\n",
       "      <td>1</td>\n",
       "      <td>1</td>\n",
       "      <td>0</td>\n",
       "      <td>0</td>\n",
       "      <td>0</td>\n",
       "      <td>178839</td>\n",
       "      <td>9.653333</td>\n",
       "      <td>1.0</td>\n",
       "    </tr>\n",
       "    <tr>\n",
       "      <th>1</th>\n",
       "      <td>0e961183-8c15-4470-9a5e-07a1bd207661</td>\n",
       "      <td>0.0</td>\n",
       "      <td>0</td>\n",
       "      <td>0.0</td>\n",
       "      <td>0.0</td>\n",
       "      <td>0.0</td>\n",
       "      <td>NaN</td>\n",
       "      <td>1.0</td>\n",
       "      <td>1.0</td>\n",
       "      <td>1.0</td>\n",
       "      <td>...</td>\n",
       "      <td>1</td>\n",
       "      <td>1</td>\n",
       "      <td>2</td>\n",
       "      <td>2</td>\n",
       "      <td>0</td>\n",
       "      <td>0</td>\n",
       "      <td>0</td>\n",
       "      <td>49014</td>\n",
       "      <td>13.181389</td>\n",
       "      <td>NaN</td>\n",
       "    </tr>\n",
       "    <tr>\n",
       "      <th>2</th>\n",
       "      <td>d8edaae6-4368-44e0-941e-8328f203e64e</td>\n",
       "      <td>0.0</td>\n",
       "      <td>0</td>\n",
       "      <td>0.0</td>\n",
       "      <td>0.0</td>\n",
       "      <td>0.0</td>\n",
       "      <td>NaN</td>\n",
       "      <td>NaN</td>\n",
       "      <td>NaN</td>\n",
       "      <td>NaN</td>\n",
       "      <td>...</td>\n",
       "      <td>1</td>\n",
       "      <td>1</td>\n",
       "      <td>2</td>\n",
       "      <td>2</td>\n",
       "      <td>0</td>\n",
       "      <td>0</td>\n",
       "      <td>0</td>\n",
       "      <td>124839</td>\n",
       "      <td>11.561944</td>\n",
       "      <td>1.0</td>\n",
       "    </tr>\n",
       "    <tr>\n",
       "      <th>3</th>\n",
       "      <td>0095dfb6-a886-4e2a-b056-15ef45fdb0ef</td>\n",
       "      <td>0.0</td>\n",
       "      <td>0</td>\n",
       "      <td>NaN</td>\n",
       "      <td>NaN</td>\n",
       "      <td>NaN</td>\n",
       "      <td>NaN</td>\n",
       "      <td>NaN</td>\n",
       "      <td>NaN</td>\n",
       "      <td>NaN</td>\n",
       "      <td>...</td>\n",
       "      <td>1</td>\n",
       "      <td>1</td>\n",
       "      <td>1</td>\n",
       "      <td>1</td>\n",
       "      <td>0</td>\n",
       "      <td>0</td>\n",
       "      <td>0</td>\n",
       "      <td>324676</td>\n",
       "      <td>15.751111</td>\n",
       "      <td>1.0</td>\n",
       "    </tr>\n",
       "    <tr>\n",
       "      <th>4</th>\n",
       "      <td>c8f8b835-5647-4506-bf15-49105d8af30b</td>\n",
       "      <td>0.0</td>\n",
       "      <td>0</td>\n",
       "      <td>0.0</td>\n",
       "      <td>0.0</td>\n",
       "      <td>0.0</td>\n",
       "      <td>NaN</td>\n",
       "      <td>NaN</td>\n",
       "      <td>NaN</td>\n",
       "      <td>NaN</td>\n",
       "      <td>...</td>\n",
       "      <td>0</td>\n",
       "      <td>1</td>\n",
       "      <td>1</td>\n",
       "      <td>1</td>\n",
       "      <td>0</td>\n",
       "      <td>0</td>\n",
       "      <td>0</td>\n",
       "      <td>7100</td>\n",
       "      <td>12.698611</td>\n",
       "      <td>NaN</td>\n",
       "    </tr>\n",
       "  </tbody>\n",
       "</table>\n",
       "<p>5 rows × 43 columns</p>\n",
       "</div>"
      ],
      "text/plain": [
       "                                   uuid  default  account_amount_added_12_24m  \\\n",
       "0  63f69b2c-8b1c-4740-b78d-52ed9a4515ac      0.0                            0   \n",
       "1  0e961183-8c15-4470-9a5e-07a1bd207661      0.0                            0   \n",
       "2  d8edaae6-4368-44e0-941e-8328f203e64e      0.0                            0   \n",
       "3  0095dfb6-a886-4e2a-b056-15ef45fdb0ef      0.0                            0   \n",
       "4  c8f8b835-5647-4506-bf15-49105d8af30b      0.0                            0   \n",
       "\n",
       "   account_days_in_dc_12_24m  account_days_in_rem_12_24m  \\\n",
       "0                        0.0                         0.0   \n",
       "1                        0.0                         0.0   \n",
       "2                        0.0                         0.0   \n",
       "3                        NaN                         NaN   \n",
       "4                        0.0                         0.0   \n",
       "\n",
       "   account_days_in_term_12_24m  account_incoming_debt_vs_paid_0_24m  \\\n",
       "0                          0.0                                  0.0   \n",
       "1                          0.0                                  NaN   \n",
       "2                          0.0                                  NaN   \n",
       "3                          NaN                                  NaN   \n",
       "4                          0.0                                  NaN   \n",
       "\n",
       "   account_status  account_worst_status_0_3m  account_worst_status_12_24m  \\\n",
       "0             1.0                        1.0                          NaN   \n",
       "1             1.0                        1.0                          1.0   \n",
       "2             NaN                        NaN                          NaN   \n",
       "3             NaN                        NaN                          NaN   \n",
       "4             NaN                        NaN                          NaN   \n",
       "\n",
       "   ...  status_3rd_last_archived_0_24m  status_max_archived_0_6_months  \\\n",
       "0  ...                               1                               1   \n",
       "1  ...                               1                               1   \n",
       "2  ...                               1                               1   \n",
       "3  ...                               1                               1   \n",
       "4  ...                               0                               1   \n",
       "\n",
       "   status_max_archived_0_12_months  status_max_archived_0_24_months  \\\n",
       "0                                1                                1   \n",
       "1                                2                                2   \n",
       "2                                2                                2   \n",
       "3                                1                                1   \n",
       "4                                1                                1   \n",
       "\n",
       "   recovery_debt sum_capital_paid_account_0_12m  \\\n",
       "0              0                              0   \n",
       "1              0                              0   \n",
       "2              0                              0   \n",
       "3              0                              0   \n",
       "4              0                              0   \n",
       "\n",
       "  sum_capital_paid_account_12_24m  sum_paid_inv_0_12m  time_hours  \\\n",
       "0                               0              178839    9.653333   \n",
       "1                               0               49014   13.181389   \n",
       "2                               0              124839   11.561944   \n",
       "3                               0              324676   15.751111   \n",
       "4                               0                7100   12.698611   \n",
       "\n",
       "   worst_status_active_inv  \n",
       "0                      1.0  \n",
       "1                      NaN  \n",
       "2                      1.0  \n",
       "3                      1.0  \n",
       "4                      NaN  \n",
       "\n",
       "[5 rows x 43 columns]"
      ]
     },
     "execution_count": 3,
     "metadata": {},
     "output_type": "execute_result"
    }
   ],
   "source": [
    "data.head(5)"
   ]
  },
  {
   "cell_type": "code",
   "execution_count": 92,
   "id": "fc39b112",
   "metadata": {},
   "outputs": [],
   "source": [
    "test_data= data[data['default'].isnull()]"
   ]
  },
  {
   "cell_type": "code",
   "execution_count": 5,
   "id": "1c15f27f",
   "metadata": {},
   "outputs": [],
   "source": [
    "train_data =data.drop(index=test_data.index)"
   ]
  },
  {
   "cell_type": "code",
   "execution_count": 6,
   "id": "94aa18c8",
   "metadata": {},
   "outputs": [
    {
     "data": {
      "text/plain": [
       "0"
      ]
     },
     "execution_count": 6,
     "metadata": {},
     "output_type": "execute_result"
    }
   ],
   "source": [
    "train_data.duplicated().sum()"
   ]
  },
  {
   "cell_type": "code",
   "execution_count": 7,
   "id": "ad682766",
   "metadata": {},
   "outputs": [],
   "source": [
    "X_train = train_data.drop(columns=['default', 'uuid'], axis=1)\n",
    "y_train = train_data['default']"
   ]
  },
  {
   "cell_type": "code",
   "execution_count": 78,
   "id": "6ce7cd6b",
   "metadata": {},
   "outputs": [
    {
     "data": {
      "text/plain": [
       "12"
      ]
     },
     "execution_count": 78,
     "metadata": {},
     "output_type": "execute_result"
    }
   ],
   "source": [
    "X_train['merchant_group'].nunique()"
   ]
  },
  {
   "cell_type": "code",
   "execution_count": 9,
   "id": "3e5d3cf3",
   "metadata": {},
   "outputs": [],
   "source": [
    "categorical_columns = X_train.select_dtypes(include=['object', 'bool']).columns.to_list()\n",
    "numerical_columns = X_train.select_dtypes(exclude=['object', 'bool']).columns.to_list()"
   ]
  },
  {
   "cell_type": "code",
   "execution_count": 10,
   "id": "93430d95",
   "metadata": {},
   "outputs": [
    {
     "data": {
      "text/plain": [
       "['merchant_category', 'merchant_group', 'has_paid', 'name_in_email']"
      ]
     },
     "execution_count": 10,
     "metadata": {},
     "output_type": "execute_result"
    }
   ],
   "source": [
    "numerical_columns\n",
    "categorical_columns"
   ]
  },
  {
   "cell_type": "code",
   "execution_count": 11,
   "id": "d52dde30",
   "metadata": {},
   "outputs": [
    {
     "data": {
      "text/plain": [
       "account_amount_added_12_24m            0.000000\n",
       "account_days_in_dc_12_24m              0.118732\n",
       "account_days_in_rem_12_24m             0.118732\n",
       "account_days_in_term_12_24m            0.118732\n",
       "account_incoming_debt_vs_paid_0_24m    0.593014\n",
       "account_status                         0.543856\n",
       "account_worst_status_0_3m              0.543856\n",
       "account_worst_status_12_24m            0.667456\n",
       "account_worst_status_3_6m              0.577243\n",
       "account_worst_status_6_12m             0.603639\n",
       "age                                    0.000000\n",
       "avg_payment_span_0_12m                 0.238597\n",
       "avg_payment_span_0_3m                  0.493265\n",
       "merchant_category                      0.000000\n",
       "merchant_group                         0.000000\n",
       "has_paid                               0.000000\n",
       "max_paid_inv_0_12m                     0.000000\n",
       "max_paid_inv_0_24m                     0.000000\n",
       "name_in_email                          0.000000\n",
       "num_active_div_by_paid_inv_0_12m       0.229595\n",
       "num_active_inv                         0.000000\n",
       "num_arch_dc_0_12m                      0.000000\n",
       "num_arch_dc_12_24m                     0.000000\n",
       "num_arch_ok_0_12m                      0.000000\n",
       "num_arch_ok_12_24m                     0.000000\n",
       "num_arch_rem_0_12m                     0.000000\n",
       "num_arch_written_off_0_12m             0.181215\n",
       "num_arch_written_off_12_24m            0.181215\n",
       "num_unpaid_bills                       0.000000\n",
       "status_last_archived_0_24m             0.000000\n",
       "status_2nd_last_archived_0_24m         0.000000\n",
       "status_3rd_last_archived_0_24m         0.000000\n",
       "status_max_archived_0_6_months         0.000000\n",
       "status_max_archived_0_12_months        0.000000\n",
       "status_max_archived_0_24_months        0.000000\n",
       "recovery_debt                          0.000000\n",
       "sum_capital_paid_account_0_12m         0.000000\n",
       "sum_capital_paid_account_12_24m        0.000000\n",
       "sum_paid_inv_0_12m                     0.000000\n",
       "time_hours                             0.000000\n",
       "worst_status_active_inv                0.695074\n",
       "dtype: float64"
      ]
     },
     "execution_count": 11,
     "metadata": {},
     "output_type": "execute_result"
    }
   ],
   "source": [
    "X_train.isnull().sum()/len(X_train)"
   ]
  },
  {
   "cell_type": "markdown",
   "id": "804e32b7",
   "metadata": {},
   "source": [
    "columns to drop:  \n",
    "    worst_status_active_inv because 70% data missing  \n",
    "    merchant_category because is the same thing as merchant group"
   ]
  },
  {
   "cell_type": "code",
   "execution_count": 12,
   "id": "731a0ff6",
   "metadata": {},
   "outputs": [],
   "source": [
    "columns_to_drop = ['merchant_category', 'worst_status_active_inv']"
   ]
  },
  {
   "cell_type": "code",
   "execution_count": 13,
   "id": "22a3133a",
   "metadata": {},
   "outputs": [
    {
     "data": {
      "text/plain": [
       "Index(['account_amount_added_12_24m', 'account_days_in_dc_12_24m',\n",
       "       'account_days_in_rem_12_24m', 'account_days_in_term_12_24m',\n",
       "       'account_incoming_debt_vs_paid_0_24m', 'account_status',\n",
       "       'account_worst_status_0_3m', 'account_worst_status_12_24m',\n",
       "       'account_worst_status_3_6m', 'account_worst_status_6_12m', 'age',\n",
       "       'avg_payment_span_0_12m', 'avg_payment_span_0_3m', 'merchant_category',\n",
       "       'merchant_group', 'has_paid', 'max_paid_inv_0_12m',\n",
       "       'max_paid_inv_0_24m', 'name_in_email',\n",
       "       'num_active_div_by_paid_inv_0_12m', 'num_active_inv',\n",
       "       'num_arch_dc_0_12m', 'num_arch_dc_12_24m', 'num_arch_ok_0_12m',\n",
       "       'num_arch_ok_12_24m', 'num_arch_rem_0_12m',\n",
       "       'num_arch_written_off_0_12m', 'num_arch_written_off_12_24m',\n",
       "       'num_unpaid_bills', 'status_last_archived_0_24m',\n",
       "       'status_2nd_last_archived_0_24m', 'status_3rd_last_archived_0_24m',\n",
       "       'status_max_archived_0_6_months', 'status_max_archived_0_12_months',\n",
       "       'status_max_archived_0_24_months', 'recovery_debt',\n",
       "       'sum_capital_paid_account_0_12m', 'sum_capital_paid_account_12_24m',\n",
       "       'sum_paid_inv_0_12m', 'time_hours', 'worst_status_active_inv'],\n",
       "      dtype='object')"
      ]
     },
     "execution_count": 13,
     "metadata": {},
     "output_type": "execute_result"
    }
   ],
   "source": [
    "X_train.columns"
   ]
  },
  {
   "cell_type": "code",
   "execution_count": 37,
   "id": "9b72c821",
   "metadata": {},
   "outputs": [
    {
     "data": {
      "text/plain": [
       "0.9856850715746421"
      ]
     },
     "execution_count": 37,
     "metadata": {},
     "output_type": "execute_result"
    }
   ],
   "source": [
    "len(y_train[y_train ==0])/len(y_train)"
   ]
  },
  {
   "cell_type": "markdown",
   "id": "0c7eee79",
   "metadata": {},
   "source": [
    "# Preprocessing"
   ]
  },
  {
   "cell_type": "code",
   "execution_count": 52,
   "id": "9c02547e",
   "metadata": {},
   "outputs": [],
   "source": [
    "from sklearn.preprocessing import OneHotEncoder, RobustScaler\n",
    "from sklearn.impute import SimpleImputer\n",
    "from sklearn.base import TransformerMixin, BaseEstimator\n",
    "from sklearn.pipeline import make_pipeline\n",
    "from sklearn.compose import make_column_transformer\n",
    "from imblearn.over_sampling import ADASYN\n",
    "import pickle"
   ]
  },
  {
   "cell_type": "code",
   "execution_count": 15,
   "id": "ec02c001",
   "metadata": {},
   "outputs": [],
   "source": [
    "# make my own column dropper\n",
    "class ColumnDropper(TransformerMixin, BaseEstimator):\n",
    "    def __init__(self, columns):\n",
    "        self.columns = columns\n",
    "    def fit(self, X, y=None):\n",
    "        return self\n",
    "    def transform(self, X, y=None):\n",
    "        return X.drop(columns=self.columns, axis=1)\n",
    "    def get_feature_names_out(self, X, y=None):\n",
    "        X= self.transform(X)\n",
    "        return X.columns"
   ]
  },
  {
   "cell_type": "code",
   "execution_count": 16,
   "id": "beb25f2c",
   "metadata": {},
   "outputs": [],
   "source": [
    "preproc_numeric_pipe = make_pipeline(\n",
    "    SimpleImputer(strategy='median'),\n",
    "    RobustScaler()\n",
    ")\n",
    "preproc_cat_pipe = make_pipeline(\n",
    "    SimpleImputer(strategy='most_frequent'),\n",
    "    OneHotEncoder(sparse=False, handle_unknown='ignore')\n",
    ")\n",
    "preproc_base_pipeline = make_column_transformer(\n",
    "    (ColumnDropper(columns_to_drop), columns_to_drop),\n",
    "    (preproc_numeric_pipe, numerical_columns),\n",
    "    (preproc_cat_pipe, categorical_columns)\n",
    ")"
   ]
  },
  {
   "cell_type": "code",
   "execution_count": 80,
   "id": "5c861b66",
   "metadata": {},
   "outputs": [],
   "source": [
    "X_train_preprocessed = preproc_base_pipeline.fit_transform(X_train)"
   ]
  },
  {
   "cell_type": "code",
   "execution_count": 81,
   "id": "c3b177d5",
   "metadata": {},
   "outputs": [
    {
     "data": {
      "text/plain": [
       "(89976, 116)"
      ]
     },
     "execution_count": 81,
     "metadata": {},
     "output_type": "execute_result"
    }
   ],
   "source": [
    "X_train_preprocessed.shape"
   ]
  },
  {
   "cell_type": "code",
   "execution_count": 82,
   "id": "e5e94dcd",
   "metadata": {},
   "outputs": [],
   "source": [
    "# preproc_base_pipeline.get_feature_names_out()"
   ]
  },
  {
   "cell_type": "code",
   "execution_count": 83,
   "id": "6f56d303",
   "metadata": {},
   "outputs": [],
   "source": [
    "X_train_preprocessed =pd.DataFrame(X_train_preprocessed)"
   ]
  },
  {
   "cell_type": "code",
   "execution_count": 84,
   "id": "7b55905c",
   "metadata": {},
   "outputs": [],
   "source": [
    "X_resampled , y_resampled = ADASYN().fit_resample(X_train_preprocessed, y_train)"
   ]
  },
  {
   "cell_type": "markdown",
   "id": "d0140baa",
   "metadata": {},
   "source": [
    "# Baseline Model"
   ]
  },
  {
   "cell_type": "code",
   "execution_count": 41,
   "id": "0fcd3e08",
   "metadata": {},
   "outputs": [],
   "source": [
    "from sklearn.linear_model import LogisticRegression\n",
    "from sklearn.model_selection import train_test_split, cross_val_score, GridSearchCV"
   ]
  },
  {
   "cell_type": "code",
   "execution_count": 43,
   "id": "4c8d3002",
   "metadata": {},
   "outputs": [],
   "source": [
    "X_train_proc, X_test_proc, y_train_proc, y_test_proc= train_test_split(X_resampled, y_resampled, test_size=0.3)"
   ]
  },
  {
   "cell_type": "code",
   "execution_count": 44,
   "id": "ae483776",
   "metadata": {},
   "outputs": [],
   "source": [
    "model = LogisticRegression(penalty='l2',solver='newton-cg', max_iter=2000)"
   ]
  },
  {
   "cell_type": "code",
   "execution_count": 45,
   "id": "3e15d413",
   "metadata": {},
   "outputs": [],
   "source": [
    "# full_pipeline =make_pipeline(\n",
    "#     preproc_base_pipeline,\n",
    "#     model\n",
    "# )"
   ]
  },
  {
   "cell_type": "code",
   "execution_count": 46,
   "id": "32cd23cf",
   "metadata": {},
   "outputs": [
    {
     "ename": "NameError",
     "evalue": "name 'full_pipeline' is not defined",
     "output_type": "error",
     "traceback": [
      "\u001b[0;31m---------------------------------------------------------------------------\u001b[0m",
      "\u001b[0;31mNameError\u001b[0m                                 Traceback (most recent call last)",
      "Cell \u001b[0;32mIn [46], line 1\u001b[0m\n\u001b[0;32m----> 1\u001b[0m \u001b[43mfull_pipeline\u001b[49m\n",
      "\u001b[0;31mNameError\u001b[0m: name 'full_pipeline' is not defined"
     ]
    }
   ],
   "source": [
    "full_pipeline"
   ]
  },
  {
   "cell_type": "code",
   "execution_count": 47,
   "id": "8b2f092e",
   "metadata": {},
   "outputs": [
    {
     "ename": "NameError",
     "evalue": "name 'full_pipeline' is not defined",
     "output_type": "error",
     "traceback": [
      "\u001b[0;31m---------------------------------------------------------------------------\u001b[0m",
      "\u001b[0;31mNameError\u001b[0m                                 Traceback (most recent call last)",
      "Cell \u001b[0;32mIn [47], line 1\u001b[0m\n\u001b[0;32m----> 1\u001b[0m \u001b[43mfull_pipeline\u001b[49m\u001b[38;5;241m.\u001b[39mget_params()\n",
      "\u001b[0;31mNameError\u001b[0m: name 'full_pipeline' is not defined"
     ]
    }
   ],
   "source": [
    "full_pipeline.get_params()"
   ]
  },
  {
   "cell_type": "code",
   "execution_count": 48,
   "id": "d1ab8c02",
   "metadata": {},
   "outputs": [],
   "source": [
    "# params_grid = {\n",
    "#     'logisticregression__penalty': ['l2', 'l1'],\n",
    "#     'logisticregression__solver': ['saga']\n",
    "# }\n",
    "# search = GridSearchCV(full_pipeline, param_grid=params_grid, scoring='precision',n_jobs=-1, cv=3 )"
   ]
  },
  {
   "cell_type": "code",
   "execution_count": 49,
   "id": "66abb556",
   "metadata": {},
   "outputs": [
    {
     "data": {
      "text/html": [
       "<style>#sk-container-id-2 {color: black;background-color: white;}#sk-container-id-2 pre{padding: 0;}#sk-container-id-2 div.sk-toggleable {background-color: white;}#sk-container-id-2 label.sk-toggleable__label {cursor: pointer;display: block;width: 100%;margin-bottom: 0;padding: 0.3em;box-sizing: border-box;text-align: center;}#sk-container-id-2 label.sk-toggleable__label-arrow:before {content: \"▸\";float: left;margin-right: 0.25em;color: #696969;}#sk-container-id-2 label.sk-toggleable__label-arrow:hover:before {color: black;}#sk-container-id-2 div.sk-estimator:hover label.sk-toggleable__label-arrow:before {color: black;}#sk-container-id-2 div.sk-toggleable__content {max-height: 0;max-width: 0;overflow: hidden;text-align: left;background-color: #f0f8ff;}#sk-container-id-2 div.sk-toggleable__content pre {margin: 0.2em;color: black;border-radius: 0.25em;background-color: #f0f8ff;}#sk-container-id-2 input.sk-toggleable__control:checked~div.sk-toggleable__content {max-height: 200px;max-width: 100%;overflow: auto;}#sk-container-id-2 input.sk-toggleable__control:checked~label.sk-toggleable__label-arrow:before {content: \"▾\";}#sk-container-id-2 div.sk-estimator input.sk-toggleable__control:checked~label.sk-toggleable__label {background-color: #d4ebff;}#sk-container-id-2 div.sk-label input.sk-toggleable__control:checked~label.sk-toggleable__label {background-color: #d4ebff;}#sk-container-id-2 input.sk-hidden--visually {border: 0;clip: rect(1px 1px 1px 1px);clip: rect(1px, 1px, 1px, 1px);height: 1px;margin: -1px;overflow: hidden;padding: 0;position: absolute;width: 1px;}#sk-container-id-2 div.sk-estimator {font-family: monospace;background-color: #f0f8ff;border: 1px dotted black;border-radius: 0.25em;box-sizing: border-box;margin-bottom: 0.5em;}#sk-container-id-2 div.sk-estimator:hover {background-color: #d4ebff;}#sk-container-id-2 div.sk-parallel-item::after {content: \"\";width: 100%;border-bottom: 1px solid gray;flex-grow: 1;}#sk-container-id-2 div.sk-label:hover label.sk-toggleable__label {background-color: #d4ebff;}#sk-container-id-2 div.sk-serial::before {content: \"\";position: absolute;border-left: 1px solid gray;box-sizing: border-box;top: 0;bottom: 0;left: 50%;z-index: 0;}#sk-container-id-2 div.sk-serial {display: flex;flex-direction: column;align-items: center;background-color: white;padding-right: 0.2em;padding-left: 0.2em;position: relative;}#sk-container-id-2 div.sk-item {position: relative;z-index: 1;}#sk-container-id-2 div.sk-parallel {display: flex;align-items: stretch;justify-content: center;background-color: white;position: relative;}#sk-container-id-2 div.sk-item::before, #sk-container-id-2 div.sk-parallel-item::before {content: \"\";position: absolute;border-left: 1px solid gray;box-sizing: border-box;top: 0;bottom: 0;left: 50%;z-index: -1;}#sk-container-id-2 div.sk-parallel-item {display: flex;flex-direction: column;z-index: 1;position: relative;background-color: white;}#sk-container-id-2 div.sk-parallel-item:first-child::after {align-self: flex-end;width: 50%;}#sk-container-id-2 div.sk-parallel-item:last-child::after {align-self: flex-start;width: 50%;}#sk-container-id-2 div.sk-parallel-item:only-child::after {width: 0;}#sk-container-id-2 div.sk-dashed-wrapped {border: 1px dashed gray;margin: 0 0.4em 0.5em 0.4em;box-sizing: border-box;padding-bottom: 0.4em;background-color: white;}#sk-container-id-2 div.sk-label label {font-family: monospace;font-weight: bold;display: inline-block;line-height: 1.2em;}#sk-container-id-2 div.sk-label-container {text-align: center;}#sk-container-id-2 div.sk-container {/* jupyter's `normalize.less` sets `[hidden] { display: none; }` but bootstrap.min.css set `[hidden] { display: none !important; }` so we also need the `!important` here to be able to override the default hidden behavior on the sphinx rendered scikit-learn.org. See: https://github.com/scikit-learn/scikit-learn/issues/21755 */display: inline-block !important;position: relative;}#sk-container-id-2 div.sk-text-repr-fallback {display: none;}</style><div id=\"sk-container-id-2\" class=\"sk-top-container\"><div class=\"sk-text-repr-fallback\"><pre>LogisticRegression(max_iter=2000, solver=&#x27;newton-cg&#x27;)</pre><b>In a Jupyter environment, please rerun this cell to show the HTML representation or trust the notebook. <br />On GitHub, the HTML representation is unable to render, please try loading this page with nbviewer.org.</b></div><div class=\"sk-container\" hidden><div class=\"sk-item\"><div class=\"sk-estimator sk-toggleable\"><input class=\"sk-toggleable__control sk-hidden--visually\" id=\"sk-estimator-id-2\" type=\"checkbox\" checked><label for=\"sk-estimator-id-2\" class=\"sk-toggleable__label sk-toggleable__label-arrow\">LogisticRegression</label><div class=\"sk-toggleable__content\"><pre>LogisticRegression(max_iter=2000, solver=&#x27;newton-cg&#x27;)</pre></div></div></div></div></div>"
      ],
      "text/plain": [
       "LogisticRegression(max_iter=2000, solver='newton-cg')"
      ]
     },
     "execution_count": 49,
     "metadata": {},
     "output_type": "execute_result"
    }
   ],
   "source": [
    "model.fit(X_train_proc, y_train_proc)"
   ]
  },
  {
   "cell_type": "code",
   "execution_count": 77,
   "id": "9226d323",
   "metadata": {},
   "outputs": [
    {
     "data": {
      "text/plain": [
       "12"
      ]
     },
     "execution_count": 77,
     "metadata": {},
     "output_type": "execute_result"
    }
   ],
   "source": [
    "test_data['merchant_group'].nunique()"
   ]
  },
  {
   "cell_type": "code",
   "execution_count": 93,
   "id": "70835a61",
   "metadata": {},
   "outputs": [],
   "source": [
    "test_default_df =test_data[['uuid']]\n",
    "test_data = test_data.drop(columns=['uuid', 'default'], axis=1)"
   ]
  },
  {
   "cell_type": "code",
   "execution_count": 50,
   "id": "035e8cd2",
   "metadata": {},
   "outputs": [],
   "source": [
    "score = cross_val_score(model,X_test_proc, y_test_proc, cv=5)"
   ]
  },
  {
   "cell_type": "code",
   "execution_count": 51,
   "id": "0662b151",
   "metadata": {},
   "outputs": [
    {
     "data": {
      "text/plain": [
       "array([0.8347565 , 0.83119077, 0.82978324, 0.83427177, 0.82892267])"
      ]
     },
     "execution_count": 51,
     "metadata": {},
     "output_type": "execute_result"
    }
   ],
   "source": [
    "score"
   ]
  },
  {
   "cell_type": "code",
   "execution_count": 55,
   "id": "2a8e8722",
   "metadata": {},
   "outputs": [],
   "source": [
    "file_name = os.path.join('..','raw_data', 'base_model.sav')\n",
    "pickle.dump(model, open(file_name, 'wb'))"
   ]
  },
  {
   "cell_type": "code",
   "execution_count": 56,
   "id": "717cb72b",
   "metadata": {},
   "outputs": [],
   "source": [
    "loaded_model = pickle.load(open(file_name, 'rb'))"
   ]
  },
  {
   "cell_type": "code",
   "execution_count": 94,
   "id": "ca4f24d2",
   "metadata": {},
   "outputs": [
    {
     "data": {
      "text/plain": [
       "(10000, 116)"
      ]
     },
     "execution_count": 94,
     "metadata": {},
     "output_type": "execute_result"
    }
   ],
   "source": [
    "test_data_preproc = preproc_base_pipeline.transform(test_data)\n",
    "test_data_preproc.shape"
   ]
  },
  {
   "cell_type": "code",
   "execution_count": 95,
   "id": "30e1ad72",
   "metadata": {},
   "outputs": [],
   "source": [
    "test_data_default= model.predict_proba(test_data_preproc)"
   ]
  },
  {
   "cell_type": "code",
   "execution_count": 96,
   "id": "dd893e32",
   "metadata": {},
   "outputs": [
    {
     "data": {
      "text/plain": [
       "array([0.21996314, 0.35520693, 0.00697654, ..., 0.98128315, 0.64562722,\n",
       "       0.14118798])"
      ]
     },
     "execution_count": 96,
     "metadata": {},
     "output_type": "execute_result"
    }
   ],
   "source": [
    "test_data_default[:,1]"
   ]
  },
  {
   "cell_type": "code",
   "execution_count": 98,
   "id": "8ba28577",
   "metadata": {},
   "outputs": [],
   "source": [
    "test_default_df['default'] = test_data_default[:,1]"
   ]
  },
  {
   "cell_type": "code",
   "execution_count": 100,
   "id": "0c5b94ed",
   "metadata": {},
   "outputs": [],
   "source": [
    "csv_path = os.path.join('..','raw_data', 'predicted.csv')\n",
    "test_default_df.to_csv(csv_path)"
   ]
  },
  {
   "cell_type": "code",
   "execution_count": null,
   "id": "8ec0ee34",
   "metadata": {},
   "outputs": [],
   "source": []
  }
 ],
 "metadata": {
  "kernelspec": {
   "display_name": "Python 3 (ipykernel)",
   "language": "python",
   "name": "python3"
  },
  "language_info": {
   "codemirror_mode": {
    "name": "ipython",
    "version": 3
   },
   "file_extension": ".py",
   "mimetype": "text/x-python",
   "name": "python",
   "nbconvert_exporter": "python",
   "pygments_lexer": "ipython3",
   "version": "3.8.12"
  },
  "toc": {
   "base_numbering": 1,
   "nav_menu": {},
   "number_sections": true,
   "sideBar": true,
   "skip_h1_title": false,
   "title_cell": "Table of Contents",
   "title_sidebar": "Contents",
   "toc_cell": false,
   "toc_position": {},
   "toc_section_display": true,
   "toc_window_display": true
  }
 },
 "nbformat": 4,
 "nbformat_minor": 5
}
